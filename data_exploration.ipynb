{
 "cells": [
  {
   "cell_type": "code",
   "execution_count": 5,
   "metadata": {},
   "outputs": [],
   "source": [
    "import numpy as np\n",
    "import pandas as pd\n",
    "import pickle\n",
    "from sklearn.preprocessing import MinMaxScaler\n",
    "from sklearn.model_selection import train_test_split"
   ]
  },
  {
   "cell_type": "code",
   "execution_count": 2,
   "metadata": {},
   "outputs": [],
   "source": [
    "#Load the data from the pickle file\n",
    "with open(\"data/2y_data.pickle\", 'rb') as file:\n",
    "    data_structure = pickle.load(file)\n",
    "\n",
    "data_structure = [data_structure[0],\n",
    "data_structure[1],\n",
    "data_structure[2],\n",
    "data_structure[3],\n",
    "data_structure[4]]\n",
    "\n",
    "data_array = np.array(data_structure).T\n",
    "\n",
    "#Assuming the structure is [timestamps, close, high, low, volume]\n",
    "timestamps = pd.to_datetime(data_array[:, 0], unit='ms')\n",
    "close_prices = data_array[:, 1]\n",
    "high_prices = data_array[:, 2]\n",
    "low_prices = data_array[:, 3]\n",
    "volumes = data_array[:, 4]\n",
    "\n",
    "# Combine all features into a DataFrame\n",
    "data_df = pd.DataFrame({\n",
    "    'timestamps': timestamps,\n",
    "    'close': close_prices,\n",
    "    'high': high_prices,\n",
    "    'low': low_prices,\n",
    "    'volume': volumes\n",
    "})\n",
    "# remove all NaN values\n",
    "data_df.dropna(inplace=True)\n",
    "data_df.drop('timestamps', axis=1, inplace=True)\n"
   ]
  },
  {
   "cell_type": "code",
   "execution_count": 3,
   "metadata": {},
   "outputs": [
    {
     "data": {
      "text/plain": [
       "['close', 'high', 'low', 'volume']"
      ]
     },
     "execution_count": 3,
     "metadata": {},
     "output_type": "execute_result"
    }
   ],
   "source": [
    "list(data_df.columns.values)"
   ]
  },
  {
   "cell_type": "code",
   "execution_count": 6,
   "metadata": {},
   "outputs": [],
   "source": [
    "data = data_df.values"
   ]
  },
  {
   "cell_type": "code",
   "execution_count": 7,
   "metadata": {},
   "outputs": [],
   "source": [
    "df_train, df_test = train_test_split(data, test_size=0.2, shuffle=False)\n",
    "\n",
    "scaler = MinMaxScaler(feature_range=(0, 1))\n",
    "scaler = scaler.fit(df_train)\n",
    "\n",
    "df_train_scaled = scaler.transform(df_train)\n",
    "df_test_scaled = scaler.transform(df_test)"
   ]
  },
  {
   "cell_type": "code",
   "execution_count": 11,
   "metadata": {},
   "outputs": [
    {
     "data": {
      "text/plain": [
       "array([[46963.79   , 47042.38   , 46877.54   ,   185.13752],\n",
       "       [46983.33   , 47162.27   , 46863.4    ,   185.06414],\n",
       "       [46964.8    , 46995.66   , 46893.7    ,    57.61115],\n",
       "       ...,\n",
       "       [29377.27   , 29377.27   , 29356.66   ,    90.68528],\n",
       "       [29369.99   , 29377.27   , 29358.49   ,    48.04199],\n",
       "       [29389.92   , 29399.98   , 29369.99   ,    86.81377]])"
      ]
     },
     "execution_count": 11,
     "metadata": {},
     "output_type": "execute_result"
    }
   ],
   "source": [
    "df_train"
   ]
  },
  {
   "cell_type": "code",
   "execution_count": 12,
   "metadata": {},
   "outputs": [
    {
     "data": {
      "text/plain": [
       "array([[29393.99   , 29394.53   , 29377.67   ,    69.0355 ],\n",
       "       [29376.37   , 29394.2    , 29357.15   ,   104.1618 ],\n",
       "       [29376.62   , 29376.63   , 29359.91   ,    77.27705],\n",
       "       ...,\n",
       "       [43661.6    , 43667.99   , 43610.99   ,    95.82861],\n",
       "       [43675.48   , 43675.48   , 43612.76   ,    58.08393],\n",
       "       [43658.01   , 43714.48   , 43651.58   ,    60.08816]])"
      ]
     },
     "execution_count": 12,
     "metadata": {},
     "output_type": "execute_result"
    }
   ],
   "source": [
    "df_test"
   ]
  },
  {
   "cell_type": "code",
   "execution_count": null,
   "metadata": {},
   "outputs": [],
   "source": []
  }
 ],
 "metadata": {
  "kernelspec": {
   "display_name": "venv",
   "language": "python",
   "name": "python3"
  },
  "language_info": {
   "codemirror_mode": {
    "name": "ipython",
    "version": 3
   },
   "file_extension": ".py",
   "mimetype": "text/x-python",
   "name": "python",
   "nbconvert_exporter": "python",
   "pygments_lexer": "ipython3",
   "version": "3.10.12"
  }
 },
 "nbformat": 4,
 "nbformat_minor": 2
}
